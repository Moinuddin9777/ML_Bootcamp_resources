{
 "cells": [
  {
   "cell_type": "markdown",
   "id": "bae8bf08",
   "metadata": {},
   "source": [
    "#### Here is a small Machine Learning Example by me. With this you can understand how predction using ML works. You need to have sklearn module for this"
   ]
  },
  {
   "cell_type": "markdown",
   "id": "5b5cf605",
   "metadata": {},
   "source": [
    "#### IMPORT modules"
   ]
  },
  {
   "cell_type": "code",
   "execution_count": 19,
   "id": "adc75f74",
   "metadata": {},
   "outputs": [],
   "source": [
    "from sklearn import tree"
   ]
  },
  {
   "cell_type": "markdown",
   "id": "72c55e2f",
   "metadata": {},
   "source": [
    "#### Here we are taking 2 features of a vehicle. Horsepower and No of seats \n",
    "#### and the lables are follwed as per the features. As super car, sedan and minivan"
   ]
  },
  {
   "cell_type": "code",
   "execution_count": 20,
   "id": "90b0e90d",
   "metadata": {},
   "outputs": [],
   "source": [
    "features = [[400,2],[450,2],[150,6],[170,4]]\n",
    "labels = [\"super-car\",\"super-car\",\"minivan\",\"sedan\"]"
   ]
  },
  {
   "cell_type": "markdown",
   "id": "3f480a1c",
   "metadata": {},
   "source": [
    "#### now use ' clf ' as your Decision tree classifier to classify your data. Here happens all the action. "
   ]
  },
  {
   "cell_type": "code",
   "execution_count": 21,
   "id": "f3d51645",
   "metadata": {},
   "outputs": [],
   "source": [
    "clf = tree.DecisionTreeClassifier()\n",
    "clf = clf.fit(features,labels)"
   ]
  },
  {
   "cell_type": "markdown",
   "id": "2845c53e",
   "metadata": {},
   "source": [
    "#### this is a command to see if your ML code worked(predicted) right or not. Use clf.predict and load the data of which you need to predict the value. "
   ]
  },
  {
   "cell_type": "code",
   "execution_count": 22,
   "id": "22cb6117",
   "metadata": {},
   "outputs": [
    {
     "name": "stdout",
     "output_type": "stream",
     "text": [
      "['minivan']\n"
     ]
    }
   ],
   "source": [
    "print(clf.predict([[150,\"4\"]]))"
   ]
  },
  {
   "cell_type": "markdown",
   "id": "9d96e2db",
   "metadata": {},
   "source": [
    "### BOOM! Congrats! you have made a ML program in just 6 lines of code"
   ]
  },
  {
   "cell_type": "code",
   "execution_count": null,
   "id": "17dad4a7",
   "metadata": {},
   "outputs": [],
   "source": []
  }
 ],
 "metadata": {
  "kernelspec": {
   "display_name": "Python 3",
   "language": "python",
   "name": "python3"
  },
  "language_info": {
   "codemirror_mode": {
    "name": "ipython",
    "version": 3
   },
   "file_extension": ".py",
   "mimetype": "text/x-python",
   "name": "python",
   "nbconvert_exporter": "python",
   "pygments_lexer": "ipython3",
   "version": "3.8.8"
  }
 },
 "nbformat": 4,
 "nbformat_minor": 5
}
